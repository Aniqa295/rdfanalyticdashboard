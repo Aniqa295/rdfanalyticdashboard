{
 "cells": [
  {
   "cell_type": "code",
   "execution_count": 2,
   "metadata": {},
   "outputs": [
    {
     "ename": "ModuleNotFoundError",
     "evalue": "No module named 'import_ipynb'",
     "output_type": "error",
     "traceback": [
      "\u001b[1;31m---------------------------------------------------------------------------\u001b[0m",
      "\u001b[1;31mModuleNotFoundError\u001b[0m                       Traceback (most recent call last)",
      "\u001b[1;32m<ipython-input-2-d00363efb261>\u001b[0m in \u001b[0;36m<module>\u001b[1;34m\u001b[0m\n\u001b[0;32m      5\u001b[0m \u001b[1;32mimport\u001b[0m \u001b[0mdash\u001b[0m\u001b[1;33m\u001b[0m\u001b[1;33m\u001b[0m\u001b[0m\n\u001b[0;32m      6\u001b[0m \u001b[1;32mimport\u001b[0m \u001b[0mpandas\u001b[0m \u001b[1;32mas\u001b[0m \u001b[0mpd\u001b[0m\u001b[1;33m\u001b[0m\u001b[1;33m\u001b[0m\u001b[0m\n\u001b[1;32m----> 7\u001b[1;33m \u001b[1;32mimport\u001b[0m \u001b[0mimport_ipynb\u001b[0m\u001b[1;33m\u001b[0m\u001b[1;33m\u001b[0m\u001b[0m\n\u001b[0m\u001b[0;32m      8\u001b[0m \u001b[1;32mfrom\u001b[0m \u001b[0mipynb\u001b[0m\u001b[1;33m.\u001b[0m\u001b[0mfs\u001b[0m\u001b[1;33m.\u001b[0m\u001b[0mfull\u001b[0m\u001b[1;33m.\u001b[0m\u001b[0mMainApp\u001b[0m \u001b[1;32mimport\u001b[0m \u001b[0mapp\u001b[0m\u001b[1;33m\u001b[0m\u001b[1;33m\u001b[0m\u001b[0m\n\u001b[0;32m      9\u001b[0m \u001b[1;32mfrom\u001b[0m \u001b[0mipynb\u001b[0m\u001b[1;33m.\u001b[0m\u001b[0mfs\u001b[0m\u001b[1;33m.\u001b[0m\u001b[0mfull\u001b[0m\u001b[1;33m.\u001b[0m\u001b[0mHelperFunctions\u001b[0m \u001b[1;32mimport\u001b[0m \u001b[0mqueries\u001b[0m\u001b[1;33m,\u001b[0m\u001b[0mendpoints\u001b[0m\u001b[1;33m\u001b[0m\u001b[1;33m\u001b[0m\u001b[0m\n",
      "\u001b[1;31mModuleNotFoundError\u001b[0m: No module named 'import_ipynb'"
     ]
    }
   ],
   "source": [
    "import plotly.express as px\n",
    "from jupyter_dash import JupyterDash\n",
    "from dash.dependencies import Input, Output, State\n",
    "import dash_table\n",
    "import dash\n",
    "import pandas as pd\n",
    "import import_ipynb\n",
    "from ipynb.fs.full.MainApp import app\n",
    "from ipynb.fs.full.HelperFunctions import queries,endpoints"
   ]
  },
  {
   "cell_type": "code",
   "execution_count": null,
   "metadata": {},
   "outputs": [],
   "source": [
    "#---------------------------------------------------Update endpoint query 1 value Callback--------------------------------------------------------------\n",
    "@app.callback([Output(\"query-endpoint\", \"value\"),Output(\"endpoint-query1-type\", \"title\")],\n",
    "              [Input('endpoint-query1-intermediate-value1', 'title'),Input('endpoint-query1-intermediate-value2', 'title'), Input('upload-data', 'fileNames')],             \n",
    "              )\n",
    "def update_endpoint(title1,title2, fileNames):\n",
    "    ctx = dash.callback_context\n",
    "    if not ctx.triggered:\n",
    "        endpoint = 'No changes yet'\n",
    "    else:\n",
    "        endpoint = ctx.triggered[0]['prop_id'].split('.')[0]\n",
    "    if((endpoint == 'endpoint-query1-intermediate-value1' or endpoint == 'upload-data') and ctx.triggered[0]['value'] != ''):\n",
    "        return title1,'1'\n",
    "    else:\n",
    "        return title2,'2' \n",
    "    \n",
    "#---------------------------------------------------Update endpoint query 2 value Callback for compare--------------------------------------------------------------\n",
    "@app.callback([Output(\"query-endpoint2\", \"value\"),Output(\"endpoint-query2-type\", \"title\")],\n",
    "              [Input('endpoint-query2-intermediate-value1', 'title'),Input('endpoint-query2-intermediate-value2', 'title'), Input('upload-data2', 'fileNames')],             \n",
    "              )\n",
    "def update_endpoint2(title1,title2, fileNames):\n",
    "    ctx = dash.callback_context\n",
    "    if not ctx.triggered:\n",
    "        endpoint = 'No changes yet'\n",
    "    else:\n",
    "        endpoint = ctx.triggered[0]['prop_id'].split('.')[0]\n",
    "    if((endpoint == 'endpoint-query2-intermediate-value1' or endpoint == 'upload-data2') and ctx.triggered[0]['value'] != ''):\n",
    "        return title1,'1'\n",
    "    else:\n",
    "        return title2,'2'  \n",
    "    \n",
    "    \n",
    "#---------------------------------------------------Query Samples Callback--------------------------------------------------------------\n",
    "# write selected query sample in the query text area    \n",
    "@app.callback(\n",
    "    [Output(\"query-text\", \"value\"), Output('endpoint-query1-intermediate-value2', 'title')],\n",
    "    [Input(\"querySamples\", \"active_cell\")],\n",
    "    [State(\"query-text\", \"value\"),State(\"query-endpoint\", \"value\")]\n",
    ")\n",
    "def get_active_cell(active_cell,prev_query,prev_endpoint):\n",
    "    if(active_cell):\n",
    "        \n",
    "        return queries[next(iter(active_cell.values()))], endpoints[next(iter(active_cell.values()))] \n",
    "    return prev_query,prev_endpoint"
   ]
  },
  {
   "cell_type": "code",
   "execution_count": null,
   "metadata": {},
   "outputs": [],
   "source": []
  }
 ],
 "metadata": {
  "kernelspec": {
   "display_name": "Python 3",
   "language": "python",
   "name": "python3"
  },
  "language_info": {
   "codemirror_mode": {
    "name": "ipython",
    "version": 3
   },
   "file_extension": ".py",
   "mimetype": "text/x-python",
   "name": "python",
   "nbconvert_exporter": "python",
   "pygments_lexer": "ipython3",
   "version": "3.8.3"
  }
 },
 "nbformat": 4,
 "nbformat_minor": 4
}
